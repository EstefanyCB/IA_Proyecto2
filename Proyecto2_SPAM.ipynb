{
 "cells": [
  {
   "cell_type": "code",
   "execution_count": 2,
   "metadata": {},
   "outputs": [],
   "source": [
    "import numpy as np\n",
    "import pandas as pd\n",
    "import matplotlib.pyplot as plt\n",
    "\n",
    "from sklearn.model_selection import train_test_split\n",
    "\n",
    "import nltk\n",
    "from nltk.corpus import stopwords\n",
    "from nltk.tokenize import word_tokenize\n",
    "from nltk.stem import WordNetLemmatizer\n",
    "\n",
    "from wordcloud import WordCloud\n",
    "\n",
    "import re\n",
    "\n",
    "import matplotlib.pyplot as plt\n",
    "from collections import defaultdict\n",
    "\n",
    "import pandas as pd\n",
    "from collections import Counter"
   ]
  },
  {
   "cell_type": "markdown",
   "metadata": {},
   "source": [
    "# Funciones"
   ]
  },
  {
   "cell_type": "code",
   "execution_count": 3,
   "metadata": {},
   "outputs": [],
   "source": [
    "# Función para contar las palabras y dividirlas según la clasificación\n",
    "def contar_palabras_por_clasificacion(df, columna_clasificacion, columna_texto):\n",
    "    \n",
    "    # Función para contar las palabras y dividirlas según la clasificación\n",
    "    def contar_palabras(texto):\n",
    "        # Dividir el texto en palabras\n",
    "        palabras = texto.split()\n",
    "        return Counter(palabras)\n",
    "\n",
    "    # Aplicar la función a la columna 'Texto' para contar las palabras en cada texto\n",
    "    conteo_total = df[columna_texto].apply(contar_palabras).sum()\n",
    "\n",
    "    # Filtrar el DataFrame para las clasificaciones 'ham' y 'spam' y contar las palabras\n",
    "    conteo_ham = df[df[columna_clasificacion] == 'ham'][columna_texto].apply(contar_palabras).sum()\n",
    "    conteo_spam = df[df[columna_clasificacion] == 'spam'][columna_texto].apply(contar_palabras).sum()\n",
    "\n",
    "    # Crear un DataFrame con los resultados\n",
    "    df_resultado = pd.DataFrame({\n",
    "        'Palabra': list(conteo_total.keys()),\n",
    "        'Total': list(conteo_total.values()),\n",
    "        'Ham': [conteo_ham[palabra] for palabra in conteo_total.keys()],\n",
    "        'Spam': [conteo_spam[palabra] for palabra in conteo_total.keys()]\n",
    "    })\n",
    "\n",
    "    # Rellenar NaN con 0\n",
    "    df_resultado.fillna(0, inplace=True)\n",
    "\n",
    "    return df_resultado\n",
    "\n",
    "#Funcion para generar nube de palabras\n",
    "def word_cloud(diccionario, words, title):\n",
    "    nube = WordCloud(max_words = words, background_color = \"white\", colormap = \"copper_r\").generate_from_frequencies(diccionario)\n",
    "    plt.imshow(nube,interpolation='bilinear')\n",
    "    plt.axis(\"off\")\n",
    "    plt.title(title)\n",
    "    plt.show()\n"
   ]
  },
  {
   "cell_type": "markdown",
   "metadata": {},
   "source": [
    "# Limpieza de datos"
   ]
  },
  {
   "cell_type": "code",
   "execution_count": 4,
   "metadata": {},
   "outputs": [
    {
     "data": {
      "text/plain": [
       "(5572, 2)"
      ]
     },
     "execution_count": 4,
     "metadata": {},
     "output_type": "execute_result"
    }
   ],
   "source": [
    "file = \"spam.csv\"\n",
    "data = pd.read_csv(file, encoding=\"latin1\")\n",
    "data = data.iloc[:, :-3]\n",
    "data.shape"
   ]
  },
  {
   "cell_type": "code",
   "execution_count": 5,
   "metadata": {},
   "outputs": [],
   "source": [
    "stop_words=set(stopwords.words('english'))"
   ]
  },
  {
   "cell_type": "code",
   "execution_count": 6,
   "metadata": {},
   "outputs": [],
   "source": [
    "Filter_stopw = []\n",
    "Len = []\n",
    "\n",
    "for text in data.iloc[:,1]:\n",
    "    word_tokens = word_tokenize(text) #Se separa en tokens todo el texto\n",
    "    word_tokens = [re.sub(r'[^a-zA-Z0-9]', ' ', token) for token in word_tokens] #Se eliminan caracteres especiales\n",
    "\n",
    "    filtered_sentence = [w for w in word_tokens if not w.lower() in stop_words] \n",
    "    filtered_sentence = []\n",
    "\n",
    "    for w in word_tokens:\n",
    "        if w not in stop_words:\n",
    "            filtered_sentence.append(w)\n",
    "\n",
    "        token2text = ' '.join(filtered_sentence)\n",
    "    \n",
    "    Len.append(len(filtered_sentence))\n",
    "    Filter_stopw.append(token2text)\n",
    "\n",
    "Filter_stopw\n",
    "data['Stopwords']=Filter_stopw\n",
    "data['Len']=Len"
   ]
  },
  {
   "cell_type": "code",
   "execution_count": 7,
   "metadata": {},
   "outputs": [
    {
     "name": "stdout",
     "output_type": "stream",
     "text": [
      "URGENT! You have won a 1 week FREE membership in our å£100,000 Prize Jackpot! Txt the word: CLAIM to No: 81010 T&C www.dbuk.net LCCLTD POBOX 4403LDNW1A7RW18\n",
      "URGENT   You 1 week FREE membership   100 000 Prize Jackpot   Txt word   CLAIM No   81010 T   C www dbuk net LCCLTD POBOX 4403LDNW1A7RW18\n"
     ]
    }
   ],
   "source": [
    "print(data.iloc[12,1])\n",
    "print(data.iloc[12,2])"
   ]
  },
  {
   "cell_type": "code",
   "execution_count": 8,
   "metadata": {},
   "outputs": [
    {
     "data": {
      "image/png": "[encoded data removed]",
      "text/plain": [
       "<Figure size 720x432 with 1 Axes>"
      ]
     },
     "metadata": {
      "needs_background": "light"
     },
     "output_type": "display_data"
    }
   ],
   "source": [
    "# Graficar los datos\n",
    "plt.figure(figsize=(10, 6))\n",
    "\n",
    "# Filtrar los datos para cada opción en la columna 'v1'\n",
    "option_0 = data[data['v1'] == \"spam\"]['Len']\n",
    "option_1 = data[data['v1'] == \"ham\"]['Len']\n",
    "\n",
    "# Contar la frecuencia de cada valor de 'Len' para cada opción\n",
    "counts_0 = option_0.value_counts().sort_index()\n",
    "counts_1 = option_1.value_counts().sort_index()\n",
    "\n",
    "# Graficar las frecuencias para cada opción\n",
    "plt.plot(counts_0.index, counts_0.values, color='b', alpha=0.7, label='Spam')\n",
    "plt.plot(counts_1.index, counts_1.values, color='r', alpha=0.7, label='Ham')\n",
    "\n",
    "plt.xlabel('Longitud (Len)')\n",
    "plt.ylabel('Frecuencia')\n",
    "plt.title('Frecuencia de Longitud en base a la clasificación Spam/Ham')\n",
    "plt.legend()\n",
    "\n",
    "plt.show()\n"
   ]
  },
  {
   "cell_type": "code",
   "execution_count": 9,
   "metadata": {},
   "outputs": [],
   "source": [
    "resultado = contar_palabras_por_clasificacion(data, 'v1', 'Stopwords')"
   ]
  },
  {
   "cell_type": "markdown",
   "metadata": {},
   "source": [
    "## Lematización"
   ]
  },
  {
   "cell_type": "code",
   "execution_count": 10,
   "metadata": {},
   "outputs": [],
   "source": [
    "lemmatizer = WordNetLemmatizer()\n",
    "lemmatization = []\n",
    "\n",
    "#Primer For\n",
    "for text in data.iloc[:,2]:\n",
    "    #print(text)\n",
    "    word_tokens = word_tokenize(text.lower())\n",
    "    \n",
    "    lemma_sentence = []\n",
    "\n",
    "    for w in word_tokens:\n",
    "        lemma = lemmatizer.lemmatize(w)\n",
    "\n",
    "        #if lemma != w:\n",
    "            #print(w)        \n",
    "        \n",
    "        lemma_sentence.append(lemma)\n",
    "\n",
    "    list2text = \" \".join(lemma_sentence)\n",
    "    lemmatization.append(list2text)\n",
    "    #print(list2text, \"\\n\")\n",
    "\n",
    "data['lemmatization'] = lemmatization"
   ]
  },
  {
   "cell_type": "code",
   "execution_count": 11,
   "metadata": {},
   "outputs": [],
   "source": [
    "resultado_2 = contar_palabras_por_clasificacion(data, 'v1', 'lemmatization')"
   ]
  },
  {
   "cell_type": "code",
   "execution_count": null,
   "metadata": {},
   "outputs": [],
   "source": [
    "max_words = 25\n",
    "diccionario_total = dict(zip(resultado_2['Palabra'], resultado_2['Total']))\n",
    "diccionario_ham = dict(zip(resultado_2['Palabra'], resultado_2['Ham']))\n",
    "diccionario_spam = dict(zip(resultado_2['Palabra'], resultado_2['Spam']))\n",
    "\n",
    "word_cloud(diccionario_total, max_words, \"Nube de palabras. Sin considerar la clasificación\")\n",
    "word_cloud(diccionario_ham, max_words, \"Nube de palabras. Clasificación HAM\")\n",
    "word_cloud(diccionario_spam, max_words, \"Nube de palabras. Clasificación SPAM\")"
   ]
  },
  {
   "cell_type": "code",
   "execution_count": null,
   "metadata": {},
   "outputs": [],
   "source": [
    "TablaFrecuencia = resultado_2.sort_values(by='Ham', ascending=False).head(10)\n",
    "\n",
    "print( TablaFrecuencia.to_latex(index=False,\n",
    "                               caption=\"Comparativa de frecuencia de palabras en orden descentende, según Ham\",\n",
    "                               label=\"tab:frecuencia_ham\",\n",
    "                               position=\"htbp\",\n",
    "                               column_format=\"|l|l|l|l|\",\n",
    "                               escape=False\n",
    "                               ))"
   ]
  },
  {
   "cell_type": "markdown",
   "metadata": {},
   "source": [
    "# Modelo"
   ]
  },
  {
   "cell_type": "code",
   "execution_count": 12,
   "metadata": {},
   "outputs": [
    {
     "name": "stdout",
     "output_type": "stream",
     "text": [
      "Accuracy: 0.9408071748878923\n",
      "Precision: 0.7024390243902439\n",
      "Recall: 0.9664429530201343\n",
      "F1-score: 0.8135593220338984\n",
      "Confusion Matrix:\n",
      "[[905  61]\n",
      " [  5 144]]\n"
     ]
    }
   ],
   "source": [
    "X = data['lemmatization']\n",
    "y = data['v1']\n",
    "\n",
    "# entrenamiento y conjunto de prueba (80% para entrenamiento, 20% para prueba)\n",
    "X_train, X_test, y_train, y_test = train_test_split(X, y, test_size=0.2, stratify=y, random_state=42)\n",
    "\n",
    "N_s_train = y_train.value_counts()['spam']\n",
    "N_h_train = y_train.value_counts()['ham']\n",
    "\n",
    "P_S_train = N_s_train / len(y_train)\n",
    "P_H_train = N_h_train / len(y_train)\n",
    "\n",
    "# Nw,s y Nw,h\n",
    "word_counts_spam_train = {} \n",
    "word_counts_ham_train = {} \n",
    "\n",
    "for text, label in zip(X_train, y_train):\n",
    "    words = text.split()\n",
    "    for word in words:\n",
    "        if label == 'spam':\n",
    "            word_counts_spam_train[word] = word_counts_spam_train.get(word, 0) + 1\n",
    "        else:\n",
    "            word_counts_ham_train[word] = word_counts_ham_train.get(word, 0) + 1\n",
    "\n",
    "#P(W|S) y P(W|H)\n",
    "P_W_given_S_train = {}\n",
    "P_W_given_H_train = {}\n",
    "\n",
    "for word in word_counts_spam_train:\n",
    "    P_W_given_S_train[word] = word_counts_spam_train[word] / N_s_train\n",
    "\n",
    "for word in word_counts_ham_train:\n",
    "    P_W_given_H_train[word] = word_counts_ham_train[word] / N_h_train\n",
    "\n",
    "# P(W) para cada palabra en los datos de entrenamiento\n",
    "P_W_train = {}\n",
    "for word in word_counts_spam_train:\n",
    "    if word in word_counts_ham_train:\n",
    "        P_W_train[word] = (word_counts_spam_train[word] / N_s_train) / ((word_counts_ham_train[word] / N_h_train) + (word_counts_spam_train[word] / N_s_train))\n",
    "\n",
    "# Probabilidad de que un texto sea SPAM dado que contiene la palabra W\n",
    "def calculate_P_S_given_W_train(word):\n",
    "    P_W_given_S = P_W_given_S_train.get(word, 0)\n",
    "    P_W_given_H = P_W_given_H_train.get(word, 0)\n",
    "    \n",
    "    if P_W_given_S == 0 and P_W_given_H == 0:\n",
    "        return 0  # Si la palabra no está presente en ningún conjunto, devolver 0\n",
    "        \n",
    "    numerator = P_W_given_S * P_S_train\n",
    "    denominator = numerator + (P_W_given_H * P_H_train)\n",
    "    \n",
    "    if denominator == 0:\n",
    "        return 0  \n",
    "    \n",
    "    return numerator / denominator\n",
    "\n",
    "\n",
    "#Probabilidad de que un texto sea SPAM dado que contiene las n palabras\n",
    "def calculate_P_S_given_W_text(text):\n",
    "    probabilidades = []\n",
    "    words = text.split()\n",
    "\n",
    "    for word in words:\n",
    "        Prob_W = calculate_P_S_given_W_train(word)\n",
    "        probabilidades.append(Prob_W)\n",
    "    \n",
    "    probabilidades = [prob for prob in probabilidades if prob != 0]\n",
    "    \n",
    "    if probabilidades == []:\n",
    "        return 0\n",
    "    \n",
    "    numerador = probabilidades[0]\n",
    "    denominador = 1 - probabilidades[0]\n",
    "    \n",
    "    for prob in probabilidades[1:]:\n",
    "        #print(numerador, denominador)\n",
    "        numerador *= prob\n",
    "        denominador *= (1 - prob)\n",
    "    \n",
    "    if denominador == 0 and numerador == 0:\n",
    "        return 0\n",
    "\n",
    "    return numerador / (numerador + denominador)\n",
    "\n",
    "\n",
    "#Probabilidad P(W) por cada palabra\n",
    "def calculateP_given_W(word):\n",
    "    N_ws = word_counts_spam_train.get(word, 0)\n",
    "    N_wh = word_counts_ham_train.get(word, 0)\n",
    "\n",
    "    if N_ws == 0 and N_wh == 0:\n",
    "        return 0\n",
    "    \n",
    "    numerator = N_ws / N_s_train\n",
    "    denominator = (N_wh/N_h_train) + numerator\n",
    "\n",
    "    if denominator == 0:\n",
    "        return 0\n",
    "    \n",
    "    return numerator / denominator\n",
    "\n",
    "from sklearn.metrics import accuracy_score, precision_score, recall_score, f1_score, confusion_matrix\n",
    "\n",
    "predictions = []\n",
    "\n",
    "for text in X_test:\n",
    "    prob_spam = calculate_P_S_given_W_text(text)\n",
    "    \n",
    "    # Si la probabilidad es mayor que 0.5, clasifícalo como spam\n",
    "    if prob_spam > 0.5:\n",
    "        predictions.append('spam')\n",
    "    else:\n",
    "        predictions.append('ham')\n",
    "\n",
    "# métricas de rendimiento\n",
    "accuracy = accuracy_score(y_test, predictions)\n",
    "precision = precision_score(y_test, predictions, pos_label='spam')\n",
    "recall = recall_score(y_test, predictions, pos_label='spam')\n",
    "f1 = f1_score(y_test, predictions, pos_label='spam')\n",
    "conf_matrix = confusion_matrix(y_test, predictions)\n",
    "\n",
    "print(\"Accuracy:\", accuracy)\n",
    "print(\"Precision:\", precision)  \n",
    "print(\"Recall:\", recall)\n",
    "print(\"F1-score:\", f1)\n",
    "print(\"Confusion Matrix:\")\n",
    "print(conf_matrix)"
   ]
  },
  {
   "cell_type": "code",
   "execution_count": 13,
   "metadata": {},
   "outputs": [],
   "source": [
    "import tkinter as tk\n",
    "from tkinter import messagebox\n",
    "\n",
    "def stopwords(text):\n",
    "    word_tokens = word_tokenize(text) #Se separa en tokens todo el texto\n",
    "    word_tokens = [re.sub(r'[^a-zA-Z0-9]', ' ', token) for token in word_tokens] #Se eliminan caracteres especiales\n",
    "\n",
    "    filtered_sentence = [w for w in word_tokens if not w.lower() in stop_words] \n",
    "    filtered_sentence = []\n",
    "\n",
    "    for w in word_tokens:\n",
    "        if w not in stop_words:\n",
    "            filtered_sentence.append(w)\n",
    "\n",
    "    token2text = ' '.join(filtered_sentence)\n",
    "\n",
    "    return token2text\n",
    "\n",
    "#Limpieza\n",
    "def Cleantxt(text):\n",
    "    text = stopwords(text)\n",
    "\n",
    "    word_tokn = word_tokenize(text.lower())\n",
    "    \n",
    "    lemma_sentence = []\n",
    "\n",
    "    for w in word_tokn:\n",
    "        lemma = lemmatizer.lemmatize(w)     \n",
    "        lemma_sentence.append(lemma)\n",
    "\n",
    "    list2text = \" \".join(lemma_sentence)\n",
    "\n",
    "    return list2text\n"
   ]
  },
  {
   "cell_type": "code",
   "execution_count": 16,
   "metadata": {},
   "outputs": [
    {
     "name": "stdout",
     "output_type": "stream",
     "text": [
      "Probabilidad de ser SPAM 1.0\n",
      "reminder: 0.93\n",
      "you: 0.75\n",
      "downloaded: 1.00\n",
      "content: 0.96\n",
      "already: 0.08\n",
      "paid: 0.52\n"
     ]
    }
   ],
   "source": [
    "# botón \"Calcular Probabilidades\"\n",
    "def calcular_probabilidades():\n",
    "    texto = texto_entry.get()\n",
    "    texto_limpiado = Cleantxt(texto)\n",
    "    proba = calculate_P_S_given_W_text(texto_limpiado)\n",
    "    print(\"Probabilidad de ser SPAM\",proba)\n",
    "\n",
    "    probabilidades = []\n",
    "    words = texto_limpiado.split()\n",
    "\n",
    "    for word in words:\n",
    "        P_W = calculateP_given_W(word)\n",
    "        probabilidades.append((word, P_W))\n",
    "        print(f\"{word}: {P_W:.2f}\")\n",
    "\n",
    "    probabilidades_str = \"\\n\".join([f\"{word}: {P_W:.2f}\" for word, P_W in probabilidades])\n",
    "\n",
    "    mensaje = f\"Probabilidad de spam: {proba:.2f}\\n\\nProbabilidades por palabra:\\n{probabilidades_str}\"\n",
    "    messagebox.showinfo(\"Resultado\", mensaje)\n",
    "    \n",
    "\n",
    "# Crear la ventana principal\n",
    "ventana = tk.Tk()\n",
    "ventana.title(\"Detector de Spam\")\n",
    "\n",
    "# Crear un widget de etiqueta para el título\n",
    "titulo_label = tk.Label(ventana, text=\"Introduce el texto:\", anchor=\"center\", justify=\"center\")\n",
    "titulo_label.pack()\n",
    "\n",
    "# Crear un widget de entrada de texto\n",
    "texto_entry = tk.Entry(ventana, width=100)\n",
    "texto_entry.pack()\n",
    "\n",
    "# Crear un botón para calcular las probabilidades\n",
    "calcular_button = tk.Button(ventana, text=\"Calcular Probabilidades\", command=calcular_probabilidades)\n",
    "calcular_button.pack()\n",
    "\n",
    "# Ejecutar el bucle principal de la ventana\n",
    "ventana.mainloop()"
   ]
  }
 ],
 "metadata": {
  "kernelspec": {
   "display_name": "Python 3",
   "language": "python",
   "name": "python3"
  },
  "language_info": {
   "codemirror_mode": {
    "name": "ipython",
    "version": 3
   },
   "file_extension": ".py",
   "mimetype": "text/x-python",
   "name": "python",
   "nbconvert_exporter": "python",
   "pygments_lexer": "ipython3",
   "version": "3.9.7"
  }
 },
 "nbformat": 4,
 "nbformat_minor": 2
}
